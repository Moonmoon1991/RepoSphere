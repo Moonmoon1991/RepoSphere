{
 "cells": [
  {
   "cell_type": "markdown",
   "id": "2dfc3698-b44b-4cb6-b17e-3bc12e9d3dd6",
   "metadata": {},
   "source": [
    "## Steps to Implement the Real-Time Scoring Application\n",
    "- Load the Trained Model: The ensemble model trained earlier will be serialized using joblib or pickle for deployment.\n",
    "- Set Up the API Using Flask: Flask will handle incoming loan application requests, process them, and return a predicted default risk score.\n",
    "- Data Preprocessing Pipeline: The preprocessing steps used in model training (e.g., encoding, scaling, feature engineering) will be applied to new loan applications before scoring.\n",
    "- Generate Predictions: The API will take input features, transform them, and pass them to the model for inference.\n",
    "- Return Results: The API will output the probability of loan default, allowing lenders to make data-driven decisions."
   ]
  },
  {
   "cell_type": "code",
   "execution_count": 2,
   "id": "08785cc6-3311-4a0f-87bf-086f04c1c3af",
   "metadata": {},
   "outputs": [
    {
     "ename": "FileNotFoundError",
     "evalue": "[Errno 2] No such file or directory: 'ensemble_model.pkl'",
     "output_type": "error",
     "traceback": [
      "\u001b[1;31m---------------------------------------------------------------------------\u001b[0m",
      "\u001b[1;31mFileNotFoundError\u001b[0m                         Traceback (most recent call last)",
      "Cell \u001b[1;32mIn[2], line 9\u001b[0m\n\u001b[0;32m      6\u001b[0m \u001b[38;5;28;01mfrom\u001b[39;00m \u001b[38;5;21;01msklearn\u001b[39;00m\u001b[38;5;21;01m.\u001b[39;00m\u001b[38;5;21;01mcompose\u001b[39;00m \u001b[38;5;28;01mimport\u001b[39;00m ColumnTransformer\n\u001b[0;32m      8\u001b[0m \u001b[38;5;66;03m# Load the trained model and preprocessor\u001b[39;00m\n\u001b[1;32m----> 9\u001b[0m \u001b[38;5;28;01mwith\u001b[39;00m \u001b[38;5;28mopen\u001b[39m(\u001b[38;5;124m\"\u001b[39m\u001b[38;5;124mensemble_model.pkl\u001b[39m\u001b[38;5;124m\"\u001b[39m, \u001b[38;5;124m\"\u001b[39m\u001b[38;5;124mrb\u001b[39m\u001b[38;5;124m\"\u001b[39m) \u001b[38;5;28;01mas\u001b[39;00m model_file:\n\u001b[0;32m     10\u001b[0m     model \u001b[38;5;241m=\u001b[39m pickle\u001b[38;5;241m.\u001b[39mload(model_file)\n\u001b[0;32m     12\u001b[0m \u001b[38;5;28;01mwith\u001b[39;00m \u001b[38;5;28mopen\u001b[39m(\u001b[38;5;124m\"\u001b[39m\u001b[38;5;124mpreprocessor.pkl\u001b[39m\u001b[38;5;124m\"\u001b[39m, \u001b[38;5;124m\"\u001b[39m\u001b[38;5;124mrb\u001b[39m\u001b[38;5;124m\"\u001b[39m) \u001b[38;5;28;01mas\u001b[39;00m preprocessor_file:\n",
      "File \u001b[1;32m~\\anaconda3\\Lib\\site-packages\\IPython\\core\\interactiveshell.py:324\u001b[0m, in \u001b[0;36m_modified_open\u001b[1;34m(file, *args, **kwargs)\u001b[0m\n\u001b[0;32m    317\u001b[0m \u001b[38;5;28;01mif\u001b[39;00m file \u001b[38;5;129;01min\u001b[39;00m {\u001b[38;5;241m0\u001b[39m, \u001b[38;5;241m1\u001b[39m, \u001b[38;5;241m2\u001b[39m}:\n\u001b[0;32m    318\u001b[0m     \u001b[38;5;28;01mraise\u001b[39;00m \u001b[38;5;167;01mValueError\u001b[39;00m(\n\u001b[0;32m    319\u001b[0m         \u001b[38;5;124mf\u001b[39m\u001b[38;5;124m\"\u001b[39m\u001b[38;5;124mIPython won\u001b[39m\u001b[38;5;124m'\u001b[39m\u001b[38;5;124mt let you open fd=\u001b[39m\u001b[38;5;132;01m{\u001b[39;00mfile\u001b[38;5;132;01m}\u001b[39;00m\u001b[38;5;124m by default \u001b[39m\u001b[38;5;124m\"\u001b[39m\n\u001b[0;32m    320\u001b[0m         \u001b[38;5;124m\"\u001b[39m\u001b[38;5;124mas it is likely to crash IPython. If you know what you are doing, \u001b[39m\u001b[38;5;124m\"\u001b[39m\n\u001b[0;32m    321\u001b[0m         \u001b[38;5;124m\"\u001b[39m\u001b[38;5;124myou can use builtins\u001b[39m\u001b[38;5;124m'\u001b[39m\u001b[38;5;124m open.\u001b[39m\u001b[38;5;124m\"\u001b[39m\n\u001b[0;32m    322\u001b[0m     )\n\u001b[1;32m--> 324\u001b[0m \u001b[38;5;28;01mreturn\u001b[39;00m io_open(file, \u001b[38;5;241m*\u001b[39margs, \u001b[38;5;241m*\u001b[39m\u001b[38;5;241m*\u001b[39mkwargs)\n",
      "\u001b[1;31mFileNotFoundError\u001b[0m: [Errno 2] No such file or directory: 'ensemble_model.pkl'"
     ]
    }
   ],
   "source": [
    "import pickle\n",
    "import numpy as np\n",
    "import pandas as pd\n",
    "from flask import Flask, request, jsonify\n",
    "from sklearn.preprocessing import StandardScaler, OneHotEncoder\n",
    "from sklearn.compose import ColumnTransformer\n",
    "\n",
    "# Load the trained model and preprocessor\n",
    "with open(\"ensemble_model.pkl\", \"rb\") as model_file:\n",
    "    model = pickle.load(model_file)\n",
    "\n",
    "with open(\"preprocessor.pkl\", \"rb\") as preprocessor_file:\n",
    "    preprocessor = pickle.load(preprocessor_file)\n",
    "\n",
    "app = Flask(__name__)\n",
    "\n",
    "@app.route(\"/predict\", methods=[\"POST\"])\n",
    "def predict():\n",
    "    \"\"\"Receives loan application data and predicts default risk.\"\"\"\n",
    "    try:\n",
    "        data = request.json\n",
    "        df = pd.DataFrame([data])  # Convert input data to DataFrame\n",
    "        \n",
    "        # Apply preprocessing\n",
    "        processed_data = preprocessor.transform(df)\n",
    "        \n",
    "        # Generate prediction\n",
    "        prediction_prob = model.predict_proba(processed_data)[:, 1]\n",
    "        prediction = (prediction_prob > 0.5).astype(int)\n",
    "        \n",
    "        return jsonify({\n",
    "            \"default_risk_probability\": float(prediction_prob),\n",
    "            \"predicted_default_status\": int(prediction)\n",
    "        })\n",
    "    except Exception as e:\n",
    "        return jsonify({\"error\": str(e)})\n",
    "\n",
    "if __name__ == \"__main__\":\n",
    "    app.run(debug=True)\n"
   ]
  },
  {
   "cell_type": "markdown",
   "id": "cc001326-d94e-4343-9cbe-ae3f2aa30d10",
   "metadata": {},
   "source": [
    "## Usage Instructions\n",
    "- Save the trained ensemble model and preprocessing pipeline using pickle.dump().\n",
    "- Deploy the Flask API on a local server or cloud platform (e.g., AWS, Azure, or Google Cloud).\n",
    "- Send loan application data via a POST request to /predict, formatted as JSON.\n",
    "- Receive the predicted default risk score and default classification."
   ]
  },
  {
   "cell_type": "code",
   "execution_count": null,
   "id": "651e5333-372a-46ac-ab67-c303f99fb849",
   "metadata": {},
   "outputs": [],
   "source": []
  }
 ],
 "metadata": {
  "kernelspec": {
   "display_name": "Python [conda env:base] *",
   "language": "python",
   "name": "conda-base-py"
  },
  "language_info": {
   "codemirror_mode": {
    "name": "ipython",
    "version": 3
   },
   "file_extension": ".py",
   "mimetype": "text/x-python",
   "name": "python",
   "nbconvert_exporter": "python",
   "pygments_lexer": "ipython3",
   "version": "3.12.7"
  }
 },
 "nbformat": 4,
 "nbformat_minor": 5
}
